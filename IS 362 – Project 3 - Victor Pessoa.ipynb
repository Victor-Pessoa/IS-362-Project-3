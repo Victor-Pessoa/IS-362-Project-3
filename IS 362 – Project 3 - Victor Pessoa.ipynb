{
 "cells": [
  {
   "cell_type": "markdown",
   "id": "1ec8a0a1",
   "metadata": {},
   "source": [
    "# IS 362 – Project 3: Exploring the Chinook Database"
   ]
  },
  {
   "cell_type": "markdown",
   "id": "7a7ac4cf",
   "metadata": {},
   "source": [
    "### Introduction\n",
    "##### The Chinook database is a sample database, representing a digital media store, including tables for artists, albums, media tracks, invoices, and customers. This project aims to combine information from various tables in the Chinook database and display specific data using pandas in Python."
   ]
  },
  {
   "cell_type": "code",
   "execution_count": 1,
   "id": "784c32a3",
   "metadata": {},
   "outputs": [],
   "source": [
    "import sqlite3\n",
    "import pandas as pd\n"
   ]
  },
  {
   "cell_type": "code",
   "execution_count": 2,
   "id": "673d017b",
   "metadata": {},
   "outputs": [],
   "source": [
    "conn = sqlite3.connect(\"C:\\\\Users\\\\Victor Pessoa\\\\Desktop\\\\IS 362 – Project 3\\\\Chinook_Sqlite.sqlite\")\n"
   ]
  },
  {
   "cell_type": "code",
   "execution_count": 4,
   "id": "fd72b0be",
   "metadata": {},
   "outputs": [],
   "source": [
    "sql_query = \"\"\"\n",
    "SELECT c.LastName, c.FirstName, t.Name AS TrackName, a.Title AS AlbumTitle\n",
    "FROM Customer c\n",
    "JOIN Invoice i ON c.CustomerId = i.CustomerId\n",
    "JOIN InvoiceLine il ON i.InvoiceId = il.InvoiceId\n",
    "JOIN Track t ON il.TrackId = t.TrackId\n",
    "JOIN Album a ON t.AlbumId = a.AlbumId\n",
    "ORDER BY c.LastName, c.FirstName\n",
    "\"\"\"\n",
    "\n",
    "df_chinook = pd.read_sql(sql_query, conn)\n"
   ]
  },
  {
   "cell_type": "code",
   "execution_count": 5,
   "id": "a8c65467",
   "metadata": {},
   "outputs": [
    {
     "data": {
      "text/html": [
       "<div>\n",
       "<style scoped>\n",
       "    .dataframe tbody tr th:only-of-type {\n",
       "        vertical-align: middle;\n",
       "    }\n",
       "\n",
       "    .dataframe tbody tr th {\n",
       "        vertical-align: top;\n",
       "    }\n",
       "\n",
       "    .dataframe thead th {\n",
       "        text-align: right;\n",
       "    }\n",
       "</style>\n",
       "<table border=\"1\" class=\"dataframe\">\n",
       "  <thead>\n",
       "    <tr style=\"text-align: right;\">\n",
       "      <th></th>\n",
       "      <th>LastName</th>\n",
       "      <th>FirstName</th>\n",
       "      <th>TrackName</th>\n",
       "      <th>AlbumTitle</th>\n",
       "    </tr>\n",
       "  </thead>\n",
       "  <tbody>\n",
       "    <tr>\n",
       "      <th>0</th>\n",
       "      <td>Almeida</td>\n",
       "      <td>Roberto</td>\n",
       "      <td>Right Next Door to Hell</td>\n",
       "      <td>Use Your Illusion I</td>\n",
       "    </tr>\n",
       "    <tr>\n",
       "      <th>1</th>\n",
       "      <td>Almeida</td>\n",
       "      <td>Roberto</td>\n",
       "      <td>In The Evening</td>\n",
       "      <td>In Through The Out Door</td>\n",
       "    </tr>\n",
       "    <tr>\n",
       "      <th>2</th>\n",
       "      <td>Almeida</td>\n",
       "      <td>Roberto</td>\n",
       "      <td>Fool In The Rain</td>\n",
       "      <td>In Through The Out Door</td>\n",
       "    </tr>\n",
       "    <tr>\n",
       "      <th>3</th>\n",
       "      <td>Almeida</td>\n",
       "      <td>Roberto</td>\n",
       "      <td>Saudade Dos Aviões Da Panair (Conversando No Bar)</td>\n",
       "      <td>Minas</td>\n",
       "    </tr>\n",
       "    <tr>\n",
       "      <th>4</th>\n",
       "      <td>Almeida</td>\n",
       "      <td>Roberto</td>\n",
       "      <td>Caso Você Queira Saber</td>\n",
       "      <td>Minas</td>\n",
       "    </tr>\n",
       "  </tbody>\n",
       "</table>\n",
       "</div>"
      ],
      "text/plain": [
       "  LastName FirstName                                          TrackName  \\\n",
       "0  Almeida   Roberto                            Right Next Door to Hell   \n",
       "1  Almeida   Roberto                                     In The Evening   \n",
       "2  Almeida   Roberto                                   Fool In The Rain   \n",
       "3  Almeida   Roberto  Saudade Dos Aviões Da Panair (Conversando No Bar)   \n",
       "4  Almeida   Roberto                             Caso Você Queira Saber   \n",
       "\n",
       "                AlbumTitle  \n",
       "0      Use Your Illusion I  \n",
       "1  In Through The Out Door  \n",
       "2  In Through The Out Door  \n",
       "3                    Minas  \n",
       "4                    Minas  "
      ]
     },
     "execution_count": 5,
     "metadata": {},
     "output_type": "execute_result"
    }
   ],
   "source": [
    "df_chinook.head()\n"
   ]
  },
  {
   "cell_type": "markdown",
   "id": "0106c48f",
   "metadata": {},
   "source": [
    "### Conclusion\n",
    "##### In this project, we successfully combined data from multiple tables in the Chinook database to display a list of customers and their respective purchased tracks and albums. The data provides insights into customer preferences and the popularity of various tracks and albums in the digital media store."
   ]
  },
  {
   "cell_type": "code",
   "execution_count": null,
   "id": "09c98765",
   "metadata": {},
   "outputs": [],
   "source": []
  }
 ],
 "metadata": {
  "kernelspec": {
   "display_name": "Python 3 (ipykernel)",
   "language": "python",
   "name": "python3"
  },
  "language_info": {
   "codemirror_mode": {
    "name": "ipython",
    "version": 3
   },
   "file_extension": ".py",
   "mimetype": "text/x-python",
   "name": "python",
   "nbconvert_exporter": "python",
   "pygments_lexer": "ipython3",
   "version": "3.9.13"
  }
 },
 "nbformat": 4,
 "nbformat_minor": 5
}
